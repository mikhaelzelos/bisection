{
  "nbformat": 4,
  "nbformat_minor": 0,
  "metadata": {
    "colab": {
      "provenance": []
    },
    "kernelspec": {
      "name": "python3",
      "display_name": "Python 3"
    },
    "language_info": {
      "name": "python"
    }
  },
  "cells": [
    {
      "cell_type": "code",
      "execution_count": null,
      "metadata": {
        "colab": {
          "base_uri": "https://localhost:8080/"
        },
        "id": "U8YZYuJfAoc5",
        "outputId": "d6739902-66fa-448f-d12a-04f981f138d5"
      },
      "outputs": [
        {
          "output_type": "stream",
          "name": "stdout",
          "text": [
            "newton_raphson = 1.4142857142857144\n",
            "sqrt(2) = 1.4142135623730951\n"
          ]
        }
      ],
      "source": [
        "import numpy as np\n",
        "f = lambda x: x**2 - 2\n",
        "f_prime = lambda x: 2*x\n",
        "newton_raphson = 1.4 - (f(1.4))/(f_prime(1.4))\n",
        "\n",
        "print(\"newton_raphson =\", newton_raphson)\n",
        "print(\"sqrt(2) =\", np.sqrt(2))"
      ]
    },
    {
      "cell_type": "code",
      "source": [
        "def my_newton(f, df, x0, tol):\n",
        "  # output is an estimation of the root of f\n",
        "  # using the Newton Raphson method\n",
        "  # recursive implementation\n",
        "  if abs(f(x0)) < tol:\n",
        "    return x0\n",
        "  else:\n",
        "    return my_newton(f, df, x0 - f(x0)/df(x0), tol)"
      ],
      "metadata": {
        "id": "mLmELAq-AuCz"
      },
      "execution_count": null,
      "outputs": []
    },
    {
      "cell_type": "code",
      "source": [
        "estimate = my_newton(f, f_prime, 1.5, 1e-6)\n",
        "print(\"estimate =\", estimate)\n",
        "print(\"sqrt(2) =\", np.sqrt(2))"
      ],
      "metadata": {
        "colab": {
          "base_uri": "https://localhost:8080/"
        },
        "id": "YZP0y8hNAvgr",
        "outputId": "13c434f2-cb38-48ee-b926-b09f495f29de"
      },
      "execution_count": null,
      "outputs": [
        {
          "output_type": "stream",
          "name": "stdout",
          "text": [
            "estimate = 1.4142135623746899\n",
            "sqrt(2) = 1.4142135623730951\n"
          ]
        }
      ]
    }
  ]
}